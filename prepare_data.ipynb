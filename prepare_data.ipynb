{
 "cells": [
  {
   "cell_type": "code",
   "execution_count": null,
   "id": "5f0c745f",
   "metadata": {},
   "outputs": [],
   "source": [
    "import pandas as pd"
   ]
  },
  {
   "cell_type": "code",
   "execution_count": null,
   "id": "5c50ee94",
   "metadata": {},
   "outputs": [],
   "source": [
    "data_ven = pd.read_csv(\"poi_points.csv\", encoding=\"utf-8\")\n",
    "\n",
    "data_ven = data_ven.drop(columns=[\"0\"])\n",
    "data_ven = data_ven.rename(columns={\"ID\": \"id\", \"long\":\"lng\"})\n",
    "\n",
    "data_ven.to_csv(\"data_ven.csv\", index=False)"
   ]
  },
  {
   "cell_type": "code",
   "execution_count": null,
   "id": "07ccd8e5",
   "metadata": {},
   "outputs": [],
   "source": [
    "data_mov = pd.read_csv(\"trajectories_big.csv\", encoding=\"utf-8\", index_col=0)\n",
    "\n",
    "data_mov = data_mov.drop(columns=[\"ID\"])\n",
    "data_mov = data_mov.groupby(data_mov.columns.tolist(),as_index=False).size()\n",
    "data_mov = data_mov.rename(columns={\"size\": \"checkins\"})\n",
    "\n",
    "data_mov.to_csv(\"data_mov.csv\", index=False)"
   ]
  }
 ],
 "metadata": {
  "kernelspec": {
   "display_name": "Python 3 (ipykernel)",
   "language": "python",
   "name": "python3"
  },
  "language_info": {
   "codemirror_mode": {
    "name": "ipython",
    "version": 3
   },
   "file_extension": ".py",
   "mimetype": "text/x-python",
   "name": "python",
   "nbconvert_exporter": "python",
   "pygments_lexer": "ipython3",
   "version": "3.8.15"
  }
 },
 "nbformat": 4,
 "nbformat_minor": 5
}
