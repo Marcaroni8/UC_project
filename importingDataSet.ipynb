{
 "cells": [
  {
   "cell_type": "code",
   "execution_count": 2,
   "metadata": {
    "collapsed": true
   },
   "outputs": [],
   "source": [
    "import pandas as pd\n",
    "import numpy as np\n",
    "import plotly.express as px\n",
    "import os\n",
    "import sys\n"
   ]
  },
  {
   "cell_type": "markdown",
   "source": [
    "### Data Import\n",
    "If you need to create a unified dataset run data below.\n",
    "function;\n",
    "The below function will go through each data file in Geolife Trajectories 1.3 file. Function label each import with the user it came from. It then save the new data to the file \"totalDataSetLocaiton.csv\".\n"
   ],
   "metadata": {
    "collapsed": false
   }
  },
  {
   "cell_type": "code",
   "execution_count": 51,
   "outputs": [
    {
     "data": {
      "text/plain": "         lat        long  zero    altitude     timeValue        date  \\\n0  39.974967  116.329317     0  157.480315  39573.596366  2008-05-05   \n1  39.975250  116.338183     0  141.076115  39573.597708  2008-05-05   \n2  39.975417  116.339017     0  236.220472  39573.598137  2008-05-05   \n3  39.975250  116.342700     0  239.501312  39573.598634  2008-05-05   \n4  39.975333  116.344917     0  239.501312  39573.598854  2008-05-05   \n\n       time userNumber  \n0  14:18:46        053  \n1  14:20:42        053  \n2  14:21:19        053  \n3  14:22:02        053  \n4  14:22:21        053  ",
      "text/html": "<div>\n<style scoped>\n    .dataframe tbody tr th:only-of-type {\n        vertical-align: middle;\n    }\n\n    .dataframe tbody tr th {\n        vertical-align: top;\n    }\n\n    .dataframe thead th {\n        text-align: right;\n    }\n</style>\n<table border=\"1\" class=\"dataframe\">\n  <thead>\n    <tr style=\"text-align: right;\">\n      <th></th>\n      <th>lat</th>\n      <th>long</th>\n      <th>zero</th>\n      <th>altitude</th>\n      <th>timeValue</th>\n      <th>date</th>\n      <th>time</th>\n      <th>userNumber</th>\n    </tr>\n  </thead>\n  <tbody>\n    <tr>\n      <th>0</th>\n      <td>39.974967</td>\n      <td>116.329317</td>\n      <td>0</td>\n      <td>157.480315</td>\n      <td>39573.596366</td>\n      <td>2008-05-05</td>\n      <td>14:18:46</td>\n      <td>053</td>\n    </tr>\n    <tr>\n      <th>1</th>\n      <td>39.975250</td>\n      <td>116.338183</td>\n      <td>0</td>\n      <td>141.076115</td>\n      <td>39573.597708</td>\n      <td>2008-05-05</td>\n      <td>14:20:42</td>\n      <td>053</td>\n    </tr>\n    <tr>\n      <th>2</th>\n      <td>39.975417</td>\n      <td>116.339017</td>\n      <td>0</td>\n      <td>236.220472</td>\n      <td>39573.598137</td>\n      <td>2008-05-05</td>\n      <td>14:21:19</td>\n      <td>053</td>\n    </tr>\n    <tr>\n      <th>3</th>\n      <td>39.975250</td>\n      <td>116.342700</td>\n      <td>0</td>\n      <td>239.501312</td>\n      <td>39573.598634</td>\n      <td>2008-05-05</td>\n      <td>14:22:02</td>\n      <td>053</td>\n    </tr>\n    <tr>\n      <th>4</th>\n      <td>39.975333</td>\n      <td>116.344917</td>\n      <td>0</td>\n      <td>239.501312</td>\n      <td>39573.598854</td>\n      <td>2008-05-05</td>\n      <td>14:22:21</td>\n      <td>053</td>\n    </tr>\n  </tbody>\n</table>\n</div>"
     },
     "execution_count": 51,
     "metadata": {},
     "output_type": "execute_result"
    }
   ],
   "source": [
    "fileLocation = \"./data/Geolife Trajectories 1.3/Data\"\n",
    "totalDataset = pd.DataFrame()\n",
    "alluserInfo = []\n",
    "for folder in os.listdir(fileLocation):\n",
    "    for day in os.listdir(os.path.join(fileLocation,folder,\"Trajectory/\")):\n",
    "        user = pd.read_csv(os.path.join(fileLocation,folder,\"Trajectory/\",day), skiprows=6, names= [\"lat\",\"long\",\"zero\",\"altitude\",\"timeValue\",\"date\", \"time\"])\n",
    "        user['userNumber'] = pd.Series([folder for x in range(len(user.index))])\n",
    "        alluserInfo.append(user)\n",
    "\n",
    "\n",
    "totalDataset = pd.concat(alluserInfo)\n",
    "totalDataset.head()"
   ],
   "metadata": {
    "collapsed": false
   }
  },
  {
   "cell_type": "code",
   "execution_count": 53,
   "outputs": [],
   "source": [
    "totalDataset.to_csv(\"./data/totalDataSetLocation.csv\")"
   ],
   "metadata": {
    "collapsed": false
   }
  },
  {
   "cell_type": "markdown",
   "source": [
    "### Find Location\n",
    "Plan;\n",
    "I know data is collected at a frequency of 1-5 seconds or eveyr 5~10 meters. So if a location is report for more then 3 minutes within 10 meters we can assume the user stoped her for a prolong period of time. I would expect at least 3 different poi per day. Of course this is recorded before covid so we assume user will not be working from home so they have more points of interest. I will aim for at least 3 different poi per user per day using this standard.\n",
    "\n",
    "Assumptions:\n",
    "A possible point of interest is define as a user stopping in a 10 meter radius for more then 3 minues. We will see how many poi frequency."
   ],
   "metadata": {
    "collapsed": false
   }
  },
  {
   "cell_type": "code",
   "execution_count": null,
   "outputs": [],
   "source": [],
   "metadata": {
    "collapsed": false
   }
  }
 ],
 "metadata": {
  "kernelspec": {
   "display_name": "Python 3",
   "language": "python",
   "name": "python3"
  },
  "language_info": {
   "codemirror_mode": {
    "name": "ipython",
    "version": 2
   },
   "file_extension": ".py",
   "mimetype": "text/x-python",
   "name": "python",
   "nbconvert_exporter": "python",
   "pygments_lexer": "ipython2",
   "version": "2.7.6"
  }
 },
 "nbformat": 4,
 "nbformat_minor": 0
}
