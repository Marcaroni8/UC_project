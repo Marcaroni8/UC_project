{
 "cells": [
  {
   "cell_type": "code",
   "execution_count": 32,
   "metadata": {
    "collapsed": true
   },
   "outputs": [
    {
     "ename": "ModuleNotFoundError",
     "evalue": "No module named 'sklearn'",
     "output_type": "error",
     "traceback": [
      "\u001B[0;31m---------------------------------------------------------------------------\u001B[0m",
      "\u001B[0;31mModuleNotFoundError\u001B[0m                       Traceback (most recent call last)",
      "Cell \u001B[0;32mIn [32], line 7\u001B[0m\n\u001B[1;32m      5\u001B[0m \u001B[38;5;28;01mimport\u001B[39;00m \u001B[38;5;21;01msys\u001B[39;00m\n\u001B[1;32m      6\u001B[0m \u001B[38;5;28;01mfrom\u001B[39;00m \u001B[38;5;21;01mrdp\u001B[39;00m \u001B[38;5;28;01mimport\u001B[39;00m rdp\n\u001B[0;32m----> 7\u001B[0m \u001B[38;5;28;01mfrom\u001B[39;00m \u001B[38;5;21;01msklearn\u001B[39;00m\u001B[38;5;21;01m.\u001B[39;00m\u001B[38;5;21;01mcluster\u001B[39;00m \u001B[38;5;28;01mimport\u001B[39;00m DBSCAN\n",
      "\u001B[0;31mModuleNotFoundError\u001B[0m: No module named 'sklearn'"
     ]
    }
   ],
   "source": [
    "import pandas as pd\n",
    "import numpy as np\n",
    "import plotly.express as px\n",
    "import os\n",
    "import sys\n",
    "from rdp import rdp\n",
    "from sklearn.cluster import DBSCAN\n"
   ]
  },
  {
   "cell_type": "markdown",
   "source": [
    "### Data Import\n",
    "If you need to create a unified dataset run data below.\n",
    "function;\n",
    "The below function will go through each data file in Geolife Trajectories 1.3 file. Function label each import with the user it came from. It then save the new data to the file \"totalDataSetLocaiton.csv\".\n"
   ],
   "metadata": {
    "collapsed": false
   }
  },
  {
   "cell_type": "code",
   "execution_count": 26,
   "outputs": [
    {
     "data": {
      "text/plain": "         lat        long  zero    altitude     timeValue        date  \\\n0  39.974967  116.329317     0  157.480315  39573.596366  2008-05-05   \n1  39.975250  116.338183     0  141.076115  39573.597708  2008-05-05   \n2  39.975417  116.339017     0  236.220472  39573.598137  2008-05-05   \n3  39.975250  116.342700     0  239.501312  39573.598634  2008-05-05   \n4  39.975333  116.344917     0  239.501312  39573.598854  2008-05-05   \n\n       time userNumber  \n0  14:18:46        053  \n1  14:20:42        053  \n2  14:21:19        053  \n3  14:22:02        053  \n4  14:22:21        053  ",
      "text/html": "<div>\n<style scoped>\n    .dataframe tbody tr th:only-of-type {\n        vertical-align: middle;\n    }\n\n    .dataframe tbody tr th {\n        vertical-align: top;\n    }\n\n    .dataframe thead th {\n        text-align: right;\n    }\n</style>\n<table border=\"1\" class=\"dataframe\">\n  <thead>\n    <tr style=\"text-align: right;\">\n      <th></th>\n      <th>lat</th>\n      <th>long</th>\n      <th>zero</th>\n      <th>altitude</th>\n      <th>timeValue</th>\n      <th>date</th>\n      <th>time</th>\n      <th>userNumber</th>\n    </tr>\n  </thead>\n  <tbody>\n    <tr>\n      <th>0</th>\n      <td>39.974967</td>\n      <td>116.329317</td>\n      <td>0</td>\n      <td>157.480315</td>\n      <td>39573.596366</td>\n      <td>2008-05-05</td>\n      <td>14:18:46</td>\n      <td>053</td>\n    </tr>\n    <tr>\n      <th>1</th>\n      <td>39.975250</td>\n      <td>116.338183</td>\n      <td>0</td>\n      <td>141.076115</td>\n      <td>39573.597708</td>\n      <td>2008-05-05</td>\n      <td>14:20:42</td>\n      <td>053</td>\n    </tr>\n    <tr>\n      <th>2</th>\n      <td>39.975417</td>\n      <td>116.339017</td>\n      <td>0</td>\n      <td>236.220472</td>\n      <td>39573.598137</td>\n      <td>2008-05-05</td>\n      <td>14:21:19</td>\n      <td>053</td>\n    </tr>\n    <tr>\n      <th>3</th>\n      <td>39.975250</td>\n      <td>116.342700</td>\n      <td>0</td>\n      <td>239.501312</td>\n      <td>39573.598634</td>\n      <td>2008-05-05</td>\n      <td>14:22:02</td>\n      <td>053</td>\n    </tr>\n    <tr>\n      <th>4</th>\n      <td>39.975333</td>\n      <td>116.344917</td>\n      <td>0</td>\n      <td>239.501312</td>\n      <td>39573.598854</td>\n      <td>2008-05-05</td>\n      <td>14:22:21</td>\n      <td>053</td>\n    </tr>\n  </tbody>\n</table>\n</div>"
     },
     "execution_count": 26,
     "metadata": {},
     "output_type": "execute_result"
    }
   ],
   "source": [
    "fileLocation = \"./data/Geolife Trajectories 1.3/Data\"\n",
    "totalDataset = pd.DataFrame()\n",
    "alluserInfo = []\n",
    "for folder in os.listdir(fileLocation):\n",
    "    for day in os.listdir(os.path.join(fileLocation,folder,\"Trajectory/\")):\n",
    "        user = pd.read_csv(os.path.join(fileLocation,folder,\"Trajectory/\",day), skiprows=6, names= [\"lat\",\"long\",\"zero\",\"altitude\",\"timeValue\",\"date\", \"time\"], dtype={\"lat\":np.float64,\"long\":np.float64,\"altitude\":np.float64,\"timeValue\":np.float64})\n",
    "        user['userNumber'] = pd.Series([folder for x in range(len(user.index))])\n",
    "        alluserInfo.append(user)\n",
    "\n",
    "totalDataset = pd.concat(alluserInfo)\n",
    "totalDataset.head()"
   ],
   "metadata": {
    "collapsed": false
   }
  },
  {
   "cell_type": "code",
   "execution_count": 27,
   "outputs": [],
   "source": [
    "totalDataset[\"datetime\"] = pd.to_datetime(totalDataset['date'] + ' ' + totalDataset['time'])\n",
    "totalDataset[\"timestamp\"] = totalDataset['datetime'].apply(lambda x: x.timestamp())\n",
    "totalDataset[\"latlongtime\"] = totalDataset[['lat','long','timestamp']].values.tolist()"
   ],
   "metadata": {
    "collapsed": false
   }
  },
  {
   "cell_type": "code",
   "execution_count": 28,
   "outputs": [],
   "source": [
    "totalDataset.to_csv(\"./data/totalDataSetLocation.csv\")"
   ],
   "metadata": {
    "collapsed": false
   }
  },
  {
   "cell_type": "markdown",
   "source": [
    "### Find Location\n",
    "Plan;\n",
    "I know data is collected at a frequency of 1-5 seconds or ever 5~10 meters. So if a location is report for more than 3 minutes within 10 meters we can assume the user stoped her for a prolong period of time. I would expect at least 3 different poi per day. Of course this is recorded before covid so we assume user will not be working from home so they have more points of interest. I will aim for at least 3 different poi per user per day using this standard.\n",
    "\n",
    "Assumptions:\n",
    "A possible point of interest is define as a user stopping in a 10 meter radius for more then 3 minues. We will see how many poi frequency.\n",
    "\n",
    "Plan1 - so we will use ramer-douglas-peucker to minimize the amount of points. This will then be will then minimize the total amountof points. allow me to the calculate time at each point.\n",
    "plan2 - clustering the points\n",
    "\n",
    "- So I really want to see first if i can"
   ],
   "metadata": {
    "collapsed": false
   }
  },
  {
   "cell_type": "code",
   "execution_count": 29,
   "outputs": [
    {
     "data": {
      "text/plain": "         lat        long  zero    altitude     timeValue        date  \\\n0  39.974967  116.329317     0  157.480315  39573.596366  2008-05-05   \n1  39.975250  116.338183     0  141.076115  39573.597708  2008-05-05   \n2  39.975417  116.339017     0  236.220472  39573.598137  2008-05-05   \n3  39.975250  116.342700     0  239.501312  39573.598634  2008-05-05   \n4  39.975333  116.344917     0  239.501312  39573.598854  2008-05-05   \n\n       time userNumber            datetime     timestamp  \\\n0  14:18:46        053 2008-05-05 14:18:46  1.209997e+09   \n1  14:20:42        053 2008-05-05 14:20:42  1.209997e+09   \n2  14:21:19        053 2008-05-05 14:21:19  1.209997e+09   \n3  14:22:02        053 2008-05-05 14:22:02  1.209997e+09   \n4  14:22:21        053 2008-05-05 14:22:21  1.209997e+09   \n\n                                         latlongtime  \n0  [39.9749666666667, 116.329316666667, 120999712...  \n1         [39.97525, 116.338183333333, 1209997242.0]  \n2  [39.9754166666667, 116.339016666667, 120999727...  \n3                 [39.97525, 116.3427, 1209997322.0]  \n4  [39.9753333333333, 116.344916666667, 120999734...  ",
      "text/html": "<div>\n<style scoped>\n    .dataframe tbody tr th:only-of-type {\n        vertical-align: middle;\n    }\n\n    .dataframe tbody tr th {\n        vertical-align: top;\n    }\n\n    .dataframe thead th {\n        text-align: right;\n    }\n</style>\n<table border=\"1\" class=\"dataframe\">\n  <thead>\n    <tr style=\"text-align: right;\">\n      <th></th>\n      <th>lat</th>\n      <th>long</th>\n      <th>zero</th>\n      <th>altitude</th>\n      <th>timeValue</th>\n      <th>date</th>\n      <th>time</th>\n      <th>userNumber</th>\n      <th>datetime</th>\n      <th>timestamp</th>\n      <th>latlongtime</th>\n    </tr>\n  </thead>\n  <tbody>\n    <tr>\n      <th>0</th>\n      <td>39.974967</td>\n      <td>116.329317</td>\n      <td>0</td>\n      <td>157.480315</td>\n      <td>39573.596366</td>\n      <td>2008-05-05</td>\n      <td>14:18:46</td>\n      <td>053</td>\n      <td>2008-05-05 14:18:46</td>\n      <td>1.209997e+09</td>\n      <td>[39.9749666666667, 116.329316666667, 120999712...</td>\n    </tr>\n    <tr>\n      <th>1</th>\n      <td>39.975250</td>\n      <td>116.338183</td>\n      <td>0</td>\n      <td>141.076115</td>\n      <td>39573.597708</td>\n      <td>2008-05-05</td>\n      <td>14:20:42</td>\n      <td>053</td>\n      <td>2008-05-05 14:20:42</td>\n      <td>1.209997e+09</td>\n      <td>[39.97525, 116.338183333333, 1209997242.0]</td>\n    </tr>\n    <tr>\n      <th>2</th>\n      <td>39.975417</td>\n      <td>116.339017</td>\n      <td>0</td>\n      <td>236.220472</td>\n      <td>39573.598137</td>\n      <td>2008-05-05</td>\n      <td>14:21:19</td>\n      <td>053</td>\n      <td>2008-05-05 14:21:19</td>\n      <td>1.209997e+09</td>\n      <td>[39.9754166666667, 116.339016666667, 120999727...</td>\n    </tr>\n    <tr>\n      <th>3</th>\n      <td>39.975250</td>\n      <td>116.342700</td>\n      <td>0</td>\n      <td>239.501312</td>\n      <td>39573.598634</td>\n      <td>2008-05-05</td>\n      <td>14:22:02</td>\n      <td>053</td>\n      <td>2008-05-05 14:22:02</td>\n      <td>1.209997e+09</td>\n      <td>[39.97525, 116.3427, 1209997322.0]</td>\n    </tr>\n    <tr>\n      <th>4</th>\n      <td>39.975333</td>\n      <td>116.344917</td>\n      <td>0</td>\n      <td>239.501312</td>\n      <td>39573.598854</td>\n      <td>2008-05-05</td>\n      <td>14:22:21</td>\n      <td>053</td>\n      <td>2008-05-05 14:22:21</td>\n      <td>1.209997e+09</td>\n      <td>[39.9753333333333, 116.344916666667, 120999734...</td>\n    </tr>\n  </tbody>\n</table>\n</div>"
     },
     "execution_count": 29,
     "metadata": {},
     "output_type": "execute_result"
    }
   ],
   "source": [
    "totalDataset.head()"
   ],
   "metadata": {
    "collapsed": false
   }
  },
  {
   "cell_type": "code",
   "execution_count": null,
   "outputs": [],
   "source": [
    "limiteduserInfo = []\n",
    "\n",
    "for name, uday in totalDataset.groupby([\"userNumber\",\"date\"]):\n",
    "    userDay = pd.DataFrame(rdp(list(uday.latlongtime), epsilon=0.001), columns=[\"lat\",\"long\",\"time\"])\n",
    "    userDay['userNumber'] = pd.Series([name[0] for x in range(len(userDay.index))])\n",
    "    limiteduserInfo.append(userDay)\n",
    "\n",
    "limtedDataSet = pd.concat(limiteduserInfo)\n"
   ],
   "metadata": {
    "collapsed": false,
    "pycharm": {
     "is_executing": true
    }
   }
  },
  {
   "cell_type": "code",
   "execution_count": null,
   "outputs": [],
   "source": [
    "limtedDataSet.describe()"
   ],
   "metadata": {
    "collapsed": false,
    "pycharm": {
     "is_executing": true
    }
   }
  },
  {
   "cell_type": "markdown",
   "source": [
    "So i have a smaller dataset now to user the DBSCAN clustering alorithm on.\n",
    "\n",
    "min_samples = 2 - assuming people odnt spend hte whole day at home so should have at least 2 poin of interest on any given day. This should give enough POI to work with"
   ],
   "metadata": {
    "collapsed": false
   }
  },
  {
   "cell_type": "code",
   "execution_count": null,
   "outputs": [],
   "source": [],
   "metadata": {
    "collapsed": false
   }
  }
 ],
 "metadata": {
  "kernelspec": {
   "display_name": "Python 3",
   "language": "python",
   "name": "python3"
  },
  "language_info": {
   "codemirror_mode": {
    "name": "ipython",
    "version": 2
   },
   "file_extension": ".py",
   "mimetype": "text/x-python",
   "name": "python",
   "nbconvert_exporter": "python",
   "pygments_lexer": "ipython2",
   "version": "2.7.6"
  }
 },
 "nbformat": 4,
 "nbformat_minor": 0
}
