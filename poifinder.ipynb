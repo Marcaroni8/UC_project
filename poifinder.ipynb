{
 "cells": [
  {
   "cell_type": "code",
   "execution_count": 27,
   "metadata": {
    "collapsed": true
   },
   "outputs": [],
   "source": [
    "import pandas as pd\n",
    "import numpy as np\n",
    "import geopandas\n",
    "import pysal\n",
    "import seaborn\n",
    "import contextily\n",
    "import matplotlib.pyplot as plt\n",
    "from sklearn.cluster import DBSCAN"
   ]
  },
  {
   "cell_type": "code",
   "execution_count": 71,
   "outputs": [
    {
     "data": {
      "text/plain": "         lat        long          time  userNumber\n0  39.984702  116.318417  1.224730e+09           0\n1  39.984288  116.299943  1.224731e+09           0\n2  39.983557  116.299235  1.224731e+09           0\n3  39.995777  116.286798  1.224735e+09           0\n4  39.996832  116.285446  1.224735e+09           0",
      "text/html": "<div>\n<style scoped>\n    .dataframe tbody tr th:only-of-type {\n        vertical-align: middle;\n    }\n\n    .dataframe tbody tr th {\n        vertical-align: top;\n    }\n\n    .dataframe thead th {\n        text-align: right;\n    }\n</style>\n<table border=\"1\" class=\"dataframe\">\n  <thead>\n    <tr style=\"text-align: right;\">\n      <th></th>\n      <th>lat</th>\n      <th>long</th>\n      <th>time</th>\n      <th>userNumber</th>\n    </tr>\n  </thead>\n  <tbody>\n    <tr>\n      <th>0</th>\n      <td>39.984702</td>\n      <td>116.318417</td>\n      <td>1.224730e+09</td>\n      <td>0</td>\n    </tr>\n    <tr>\n      <th>1</th>\n      <td>39.984288</td>\n      <td>116.299943</td>\n      <td>1.224731e+09</td>\n      <td>0</td>\n    </tr>\n    <tr>\n      <th>2</th>\n      <td>39.983557</td>\n      <td>116.299235</td>\n      <td>1.224731e+09</td>\n      <td>0</td>\n    </tr>\n    <tr>\n      <th>3</th>\n      <td>39.995777</td>\n      <td>116.286798</td>\n      <td>1.224735e+09</td>\n      <td>0</td>\n    </tr>\n    <tr>\n      <th>4</th>\n      <td>39.996832</td>\n      <td>116.285446</td>\n      <td>1.224735e+09</td>\n      <td>0</td>\n    </tr>\n  </tbody>\n</table>\n</div>"
     },
     "execution_count": 71,
     "metadata": {},
     "output_type": "execute_result"
    }
   ],
   "source": [
    "limitedDataset = pd.read_csv(\"./data/limtedDataSet.csv\", index_col=0)\n",
    "limitedDataset.head()"
   ],
   "metadata": {
    "collapsed": false
   }
  },
  {
   "cell_type": "code",
   "execution_count": 64,
   "outputs": [
    {
     "data": {
      "text/plain": "                 lat           long          time     userNumber\ncount  697279.000000  697279.000000  6.972790e+05  697279.000000\nmean       39.080813     112.287790  1.242473e+09      79.266674\nstd         3.915662      28.275930  3.058664e+07      56.977834\nmin         1.044024    -179.969593  9.467683e+08       0.000000\n25%        39.909022     116.307058  1.225447e+09      25.000000\n50%        39.975403     116.338408  1.236690e+09      68.000000\n75%        40.006018     116.431037  1.247633e+09     128.000000\nmax       400.166667     179.996942  1.343378e+09     181.000000",
      "text/html": "<div>\n<style scoped>\n    .dataframe tbody tr th:only-of-type {\n        vertical-align: middle;\n    }\n\n    .dataframe tbody tr th {\n        vertical-align: top;\n    }\n\n    .dataframe thead th {\n        text-align: right;\n    }\n</style>\n<table border=\"1\" class=\"dataframe\">\n  <thead>\n    <tr style=\"text-align: right;\">\n      <th></th>\n      <th>lat</th>\n      <th>long</th>\n      <th>time</th>\n      <th>userNumber</th>\n    </tr>\n  </thead>\n  <tbody>\n    <tr>\n      <th>count</th>\n      <td>697279.000000</td>\n      <td>697279.000000</td>\n      <td>6.972790e+05</td>\n      <td>697279.000000</td>\n    </tr>\n    <tr>\n      <th>mean</th>\n      <td>39.080813</td>\n      <td>112.287790</td>\n      <td>1.242473e+09</td>\n      <td>79.266674</td>\n    </tr>\n    <tr>\n      <th>std</th>\n      <td>3.915662</td>\n      <td>28.275930</td>\n      <td>3.058664e+07</td>\n      <td>56.977834</td>\n    </tr>\n    <tr>\n      <th>min</th>\n      <td>1.044024</td>\n      <td>-179.969593</td>\n      <td>9.467683e+08</td>\n      <td>0.000000</td>\n    </tr>\n    <tr>\n      <th>25%</th>\n      <td>39.909022</td>\n      <td>116.307058</td>\n      <td>1.225447e+09</td>\n      <td>25.000000</td>\n    </tr>\n    <tr>\n      <th>50%</th>\n      <td>39.975403</td>\n      <td>116.338408</td>\n      <td>1.236690e+09</td>\n      <td>68.000000</td>\n    </tr>\n    <tr>\n      <th>75%</th>\n      <td>40.006018</td>\n      <td>116.431037</td>\n      <td>1.247633e+09</td>\n      <td>128.000000</td>\n    </tr>\n    <tr>\n      <th>max</th>\n      <td>400.166667</td>\n      <td>179.996942</td>\n      <td>1.343378e+09</td>\n      <td>181.000000</td>\n    </tr>\n  </tbody>\n</table>\n</div>"
     },
     "execution_count": 64,
     "metadata": {},
     "output_type": "execute_result"
    }
   ],
   "source": [
    "limitedDataset.describe()"
   ],
   "metadata": {
    "collapsed": false
   }
  },
  {
   "cell_type": "code",
   "execution_count": null,
   "outputs": [],
   "source": [
    "seaborn.jointplot(x='lat', y='long', data=limitedDataset, s=1)\n"
   ],
   "metadata": {
    "collapsed": false
   }
  },
  {
   "cell_type": "code",
   "execution_count": 65,
   "outputs": [],
   "source": [
    "limitedDataset = limitedDataset[:100]"
   ],
   "metadata": {
    "collapsed": false
   }
  },
  {
   "cell_type": "code",
   "execution_count": 66,
   "outputs": [
    {
     "data": {
      "text/plain": "         lat        long          time  userNumber\n0  39.984702  116.318417  1.224730e+09           0\n1  39.984288  116.299943  1.224731e+09           0\n2  39.983557  116.299235  1.224731e+09           0\n3  39.995777  116.286798  1.224735e+09           0\n4  39.996832  116.285446  1.224735e+09           0",
      "text/html": "<div>\n<style scoped>\n    .dataframe tbody tr th:only-of-type {\n        vertical-align: middle;\n    }\n\n    .dataframe tbody tr th {\n        vertical-align: top;\n    }\n\n    .dataframe thead th {\n        text-align: right;\n    }\n</style>\n<table border=\"1\" class=\"dataframe\">\n  <thead>\n    <tr style=\"text-align: right;\">\n      <th></th>\n      <th>lat</th>\n      <th>long</th>\n      <th>time</th>\n      <th>userNumber</th>\n    </tr>\n  </thead>\n  <tbody>\n    <tr>\n      <th>0</th>\n      <td>39.984702</td>\n      <td>116.318417</td>\n      <td>1.224730e+09</td>\n      <td>0</td>\n    </tr>\n    <tr>\n      <th>1</th>\n      <td>39.984288</td>\n      <td>116.299943</td>\n      <td>1.224731e+09</td>\n      <td>0</td>\n    </tr>\n    <tr>\n      <th>2</th>\n      <td>39.983557</td>\n      <td>116.299235</td>\n      <td>1.224731e+09</td>\n      <td>0</td>\n    </tr>\n    <tr>\n      <th>3</th>\n      <td>39.995777</td>\n      <td>116.286798</td>\n      <td>1.224735e+09</td>\n      <td>0</td>\n    </tr>\n    <tr>\n      <th>4</th>\n      <td>39.996832</td>\n      <td>116.285446</td>\n      <td>1.224735e+09</td>\n      <td>0</td>\n    </tr>\n  </tbody>\n</table>\n</div>"
     },
     "execution_count": 66,
     "metadata": {},
     "output_type": "execute_result"
    }
   ],
   "source": [
    "limitedDataset.describe()"
   ],
   "metadata": {
    "collapsed": false
   }
  },
  {
   "cell_type": "code",
   "execution_count": null,
   "outputs": [],
   "source": [
    "llat = limitedDataset[(limitedDataset['lat'] >= 41) | (limitedDataset['lat'] <= 39) ].index\n",
    "hold = limitedDataset.drop(llat, inplace = False)"
   ],
   "metadata": {
    "collapsed": false,
    "pycharm": {
     "is_executing": true
    }
   }
  },
  {
   "cell_type": "code",
   "execution_count": null,
   "outputs": [],
   "source": [
    "llong = hold[(hold['long'] >=17) | (hold['long'] <= 115) ].index\n",
    "limitedDataset = hold.drop(llong, inplace = False)"
   ],
   "metadata": {
    "collapsed": false
   }
  },
  {
   "cell_type": "code",
   "execution_count": null,
   "outputs": [],
   "source": [
    "limitedDataset.describe()"
   ],
   "metadata": {
    "collapsed": false
   }
  },
  {
   "cell_type": "code",
   "execution_count": null,
   "outputs": [],
   "source": [
    "seaborn.jointplot(x='lat',y='long',data=limitedDataset, s=1)"
   ],
   "metadata": {
    "collapsed": false
   }
  },
  {
   "cell_type": "code",
   "execution_count": 56,
   "outputs": [],
   "source": [
    "limitedDataset.to_csv(\"./data/onlyB_40_116.csv\")"
   ],
   "metadata": {
    "collapsed": false
   }
  },
  {
   "cell_type": "code",
   "execution_count": null,
   "outputs": [],
   "source": [
    "joint_axes = seaborn.jointplot(x='lat',y='long', data=limitedDataset, s = 0.5)"
   ],
   "metadata": {
    "collapsed": false
   }
  },
  {
   "cell_type": "code",
   "execution_count": null,
   "outputs": [],
   "source": [
    "dt\n"
   ],
   "metadata": {
    "collapsed": false
   }
  }
 ],
 "metadata": {
  "kernelspec": {
   "display_name": "Python 3",
   "language": "python",
   "name": "python3"
  },
  "language_info": {
   "codemirror_mode": {
    "name": "ipython",
    "version": 2
   },
   "file_extension": ".py",
   "mimetype": "text/x-python",
   "name": "python",
   "nbconvert_exporter": "python",
   "pygments_lexer": "ipython2",
   "version": "2.7.6"
  }
 },
 "nbformat": 4,
 "nbformat_minor": 0
}
