{
 "cells": [
  {
   "cell_type": "code",
   "execution_count": 5,
   "metadata": {
    "collapsed": true
   },
   "outputs": [],
   "source": [
    "import random\n",
    "\n",
    "import pandas as pd\n",
    "import numpy as np\n",
    "import geopandas\n",
    "import pysal\n",
    "import seaborn\n",
    "import contextily\n",
    "import matplotlib.pyplot as plt\n",
    "from sklearn.cluster import DBSCAN\n",
    "from geopy.distance import great_circle\n",
    "from shapely.geometry import MultiPoint\n",
    "import random"
   ]
  },
  {
   "cell_type": "code",
   "execution_count": 6,
   "outputs": [
    {
     "data": {
      "text/plain": "         lat        long          time  userNumber\n0  39.984702  116.318417  1.224730e+09           0\n1  39.984288  116.299943  1.224731e+09           0\n2  39.983557  116.299235  1.224731e+09           0\n3  39.995777  116.286798  1.224735e+09           0\n4  39.996832  116.285446  1.224735e+09           0",
      "text/html": "<div>\n<style scoped>\n    .dataframe tbody tr th:only-of-type {\n        vertical-align: middle;\n    }\n\n    .dataframe tbody tr th {\n        vertical-align: top;\n    }\n\n    .dataframe thead th {\n        text-align: right;\n    }\n</style>\n<table border=\"1\" class=\"dataframe\">\n  <thead>\n    <tr style=\"text-align: right;\">\n      <th></th>\n      <th>lat</th>\n      <th>long</th>\n      <th>time</th>\n      <th>userNumber</th>\n    </tr>\n  </thead>\n  <tbody>\n    <tr>\n      <th>0</th>\n      <td>39.984702</td>\n      <td>116.318417</td>\n      <td>1.224730e+09</td>\n      <td>0</td>\n    </tr>\n    <tr>\n      <th>1</th>\n      <td>39.984288</td>\n      <td>116.299943</td>\n      <td>1.224731e+09</td>\n      <td>0</td>\n    </tr>\n    <tr>\n      <th>2</th>\n      <td>39.983557</td>\n      <td>116.299235</td>\n      <td>1.224731e+09</td>\n      <td>0</td>\n    </tr>\n    <tr>\n      <th>3</th>\n      <td>39.995777</td>\n      <td>116.286798</td>\n      <td>1.224735e+09</td>\n      <td>0</td>\n    </tr>\n    <tr>\n      <th>4</th>\n      <td>39.996832</td>\n      <td>116.285446</td>\n      <td>1.224735e+09</td>\n      <td>0</td>\n    </tr>\n  </tbody>\n</table>\n</div>"
     },
     "execution_count": 6,
     "metadata": {},
     "output_type": "execute_result"
    }
   ],
   "source": [
    "limitedDataset = pd.read_csv(\"./data/limtedDataSet.csv\", index_col=0)\n",
    "limitedDataset.head()"
   ],
   "metadata": {
    "collapsed": false
   }
  },
  {
   "cell_type": "code",
   "execution_count": 64,
   "outputs": [
    {
     "data": {
      "text/plain": "                 lat           long          time     userNumber\ncount  697279.000000  697279.000000  6.972790e+05  697279.000000\nmean       39.080813     112.287790  1.242473e+09      79.266674\nstd         3.915662      28.275930  3.058664e+07      56.977834\nmin         1.044024    -179.969593  9.467683e+08       0.000000\n25%        39.909022     116.307058  1.225447e+09      25.000000\n50%        39.975403     116.338408  1.236690e+09      68.000000\n75%        40.006018     116.431037  1.247633e+09     128.000000\nmax       400.166667     179.996942  1.343378e+09     181.000000",
      "text/html": "<div>\n<style scoped>\n    .dataframe tbody tr th:only-of-type {\n        vertical-align: middle;\n    }\n\n    .dataframe tbody tr th {\n        vertical-align: top;\n    }\n\n    .dataframe thead th {\n        text-align: right;\n    }\n</style>\n<table border=\"1\" class=\"dataframe\">\n  <thead>\n    <tr style=\"text-align: right;\">\n      <th></th>\n      <th>lat</th>\n      <th>long</th>\n      <th>time</th>\n      <th>userNumber</th>\n    </tr>\n  </thead>\n  <tbody>\n    <tr>\n      <th>count</th>\n      <td>697279.000000</td>\n      <td>697279.000000</td>\n      <td>6.972790e+05</td>\n      <td>697279.000000</td>\n    </tr>\n    <tr>\n      <th>mean</th>\n      <td>39.080813</td>\n      <td>112.287790</td>\n      <td>1.242473e+09</td>\n      <td>79.266674</td>\n    </tr>\n    <tr>\n      <th>std</th>\n      <td>3.915662</td>\n      <td>28.275930</td>\n      <td>3.058664e+07</td>\n      <td>56.977834</td>\n    </tr>\n    <tr>\n      <th>min</th>\n      <td>1.044024</td>\n      <td>-179.969593</td>\n      <td>9.467683e+08</td>\n      <td>0.000000</td>\n    </tr>\n    <tr>\n      <th>25%</th>\n      <td>39.909022</td>\n      <td>116.307058</td>\n      <td>1.225447e+09</td>\n      <td>25.000000</td>\n    </tr>\n    <tr>\n      <th>50%</th>\n      <td>39.975403</td>\n      <td>116.338408</td>\n      <td>1.236690e+09</td>\n      <td>68.000000</td>\n    </tr>\n    <tr>\n      <th>75%</th>\n      <td>40.006018</td>\n      <td>116.431037</td>\n      <td>1.247633e+09</td>\n      <td>128.000000</td>\n    </tr>\n    <tr>\n      <th>max</th>\n      <td>400.166667</td>\n      <td>179.996942</td>\n      <td>1.343378e+09</td>\n      <td>181.000000</td>\n    </tr>\n  </tbody>\n</table>\n</div>"
     },
     "execution_count": 64,
     "metadata": {},
     "output_type": "execute_result"
    }
   ],
   "source": [
    "limitedDataset.describe()"
   ],
   "metadata": {
    "collapsed": false
   }
  },
  {
   "cell_type": "code",
   "execution_count": null,
   "outputs": [],
   "source": [
    "seaborn.jointplot(x='lat', y='long', data=limitedDataset, s=1)"
   ],
   "metadata": {
    "collapsed": false
   }
  },
  {
   "cell_type": "code",
   "execution_count": 7,
   "outputs": [],
   "source": [
    "limitedDataset = limitedDataset[:1000]"
   ],
   "metadata": {
    "collapsed": false
   }
  },
  {
   "cell_type": "code",
   "execution_count": 86,
   "outputs": [
    {
     "data": {
      "text/plain": "               lat         long          time  userNumber\ncount  1000.000000  1000.000000  1.000000e+03      1000.0\nmean     39.995994   116.336236  1.232342e+09         0.0\nstd       0.028002     0.059470  6.066012e+06         0.0\nmin      39.887335   116.262689  1.224730e+09         0.0\n25%      39.994537   116.317275  1.226559e+09         0.0\n50%      40.003726   116.321750  1.229060e+09         0.0\n75%      40.008892   116.326119  1.238747e+09         0.0\nmax      40.079504   116.613898  1.238853e+09         0.0",
      "text/html": "<div>\n<style scoped>\n    .dataframe tbody tr th:only-of-type {\n        vertical-align: middle;\n    }\n\n    .dataframe tbody tr th {\n        vertical-align: top;\n    }\n\n    .dataframe thead th {\n        text-align: right;\n    }\n</style>\n<table border=\"1\" class=\"dataframe\">\n  <thead>\n    <tr style=\"text-align: right;\">\n      <th></th>\n      <th>lat</th>\n      <th>long</th>\n      <th>time</th>\n      <th>userNumber</th>\n    </tr>\n  </thead>\n  <tbody>\n    <tr>\n      <th>count</th>\n      <td>1000.000000</td>\n      <td>1000.000000</td>\n      <td>1.000000e+03</td>\n      <td>1000.0</td>\n    </tr>\n    <tr>\n      <th>mean</th>\n      <td>39.995994</td>\n      <td>116.336236</td>\n      <td>1.232342e+09</td>\n      <td>0.0</td>\n    </tr>\n    <tr>\n      <th>std</th>\n      <td>0.028002</td>\n      <td>0.059470</td>\n      <td>6.066012e+06</td>\n      <td>0.0</td>\n    </tr>\n    <tr>\n      <th>min</th>\n      <td>39.887335</td>\n      <td>116.262689</td>\n      <td>1.224730e+09</td>\n      <td>0.0</td>\n    </tr>\n    <tr>\n      <th>25%</th>\n      <td>39.994537</td>\n      <td>116.317275</td>\n      <td>1.226559e+09</td>\n      <td>0.0</td>\n    </tr>\n    <tr>\n      <th>50%</th>\n      <td>40.003726</td>\n      <td>116.321750</td>\n      <td>1.229060e+09</td>\n      <td>0.0</td>\n    </tr>\n    <tr>\n      <th>75%</th>\n      <td>40.008892</td>\n      <td>116.326119</td>\n      <td>1.238747e+09</td>\n      <td>0.0</td>\n    </tr>\n    <tr>\n      <th>max</th>\n      <td>40.079504</td>\n      <td>116.613898</td>\n      <td>1.238853e+09</td>\n      <td>0.0</td>\n    </tr>\n  </tbody>\n</table>\n</div>"
     },
     "execution_count": 86,
     "metadata": {},
     "output_type": "execute_result"
    }
   ],
   "source": [
    "limitedDataset.describe()"
   ],
   "metadata": {
    "collapsed": false
   }
  },
  {
   "cell_type": "code",
   "execution_count": 87,
   "outputs": [],
   "source": [
    "llat = limitedDataset[(limitedDataset['lat'] >= 41) | (limitedDataset['lat'] <= 39) ].index\n",
    "hold = limitedDataset.drop(llat, inplace = False)"
   ],
   "metadata": {
    "collapsed": false
   }
  },
  {
   "cell_type": "code",
   "execution_count": 88,
   "outputs": [
    {
     "data": {
      "text/plain": "               lat         long          time  userNumber\ncount  1000.000000  1000.000000  1.000000e+03      1000.0\nmean     39.995994   116.336236  1.232342e+09         0.0\nstd       0.028002     0.059470  6.066012e+06         0.0\nmin      39.887335   116.262689  1.224730e+09         0.0\n25%      39.994537   116.317275  1.226559e+09         0.0\n50%      40.003726   116.321750  1.229060e+09         0.0\n75%      40.008892   116.326119  1.238747e+09         0.0\nmax      40.079504   116.613898  1.238853e+09         0.0",
      "text/html": "<div>\n<style scoped>\n    .dataframe tbody tr th:only-of-type {\n        vertical-align: middle;\n    }\n\n    .dataframe tbody tr th {\n        vertical-align: top;\n    }\n\n    .dataframe thead th {\n        text-align: right;\n    }\n</style>\n<table border=\"1\" class=\"dataframe\">\n  <thead>\n    <tr style=\"text-align: right;\">\n      <th></th>\n      <th>lat</th>\n      <th>long</th>\n      <th>time</th>\n      <th>userNumber</th>\n    </tr>\n  </thead>\n  <tbody>\n    <tr>\n      <th>count</th>\n      <td>1000.000000</td>\n      <td>1000.000000</td>\n      <td>1.000000e+03</td>\n      <td>1000.0</td>\n    </tr>\n    <tr>\n      <th>mean</th>\n      <td>39.995994</td>\n      <td>116.336236</td>\n      <td>1.232342e+09</td>\n      <td>0.0</td>\n    </tr>\n    <tr>\n      <th>std</th>\n      <td>0.028002</td>\n      <td>0.059470</td>\n      <td>6.066012e+06</td>\n      <td>0.0</td>\n    </tr>\n    <tr>\n      <th>min</th>\n      <td>39.887335</td>\n      <td>116.262689</td>\n      <td>1.224730e+09</td>\n      <td>0.0</td>\n    </tr>\n    <tr>\n      <th>25%</th>\n      <td>39.994537</td>\n      <td>116.317275</td>\n      <td>1.226559e+09</td>\n      <td>0.0</td>\n    </tr>\n    <tr>\n      <th>50%</th>\n      <td>40.003726</td>\n      <td>116.321750</td>\n      <td>1.229060e+09</td>\n      <td>0.0</td>\n    </tr>\n    <tr>\n      <th>75%</th>\n      <td>40.008892</td>\n      <td>116.326119</td>\n      <td>1.238747e+09</td>\n      <td>0.0</td>\n    </tr>\n    <tr>\n      <th>max</th>\n      <td>40.079504</td>\n      <td>116.613898</td>\n      <td>1.238853e+09</td>\n      <td>0.0</td>\n    </tr>\n  </tbody>\n</table>\n</div>"
     },
     "execution_count": 88,
     "metadata": {},
     "output_type": "execute_result"
    }
   ],
   "source": [
    "hold.describe()"
   ],
   "metadata": {
    "collapsed": false
   }
  },
  {
   "cell_type": "code",
   "execution_count": 89,
   "outputs": [],
   "source": [
    "llong = hold[(hold['long'] >=117) | (hold['long'] <= 115) ].index\n",
    "limitedDataset = hold.drop(llong, inplace = False)"
   ],
   "metadata": {
    "collapsed": false
   }
  },
  {
   "cell_type": "code",
   "execution_count": 90,
   "outputs": [
    {
     "data": {
      "text/plain": "               lat         long          time  userNumber\ncount  1000.000000  1000.000000  1.000000e+03      1000.0\nmean     39.995994   116.336236  1.232342e+09         0.0\nstd       0.028002     0.059470  6.066012e+06         0.0\nmin      39.887335   116.262689  1.224730e+09         0.0\n25%      39.994537   116.317275  1.226559e+09         0.0\n50%      40.003726   116.321750  1.229060e+09         0.0\n75%      40.008892   116.326119  1.238747e+09         0.0\nmax      40.079504   116.613898  1.238853e+09         0.0",
      "text/html": "<div>\n<style scoped>\n    .dataframe tbody tr th:only-of-type {\n        vertical-align: middle;\n    }\n\n    .dataframe tbody tr th {\n        vertical-align: top;\n    }\n\n    .dataframe thead th {\n        text-align: right;\n    }\n</style>\n<table border=\"1\" class=\"dataframe\">\n  <thead>\n    <tr style=\"text-align: right;\">\n      <th></th>\n      <th>lat</th>\n      <th>long</th>\n      <th>time</th>\n      <th>userNumber</th>\n    </tr>\n  </thead>\n  <tbody>\n    <tr>\n      <th>count</th>\n      <td>1000.000000</td>\n      <td>1000.000000</td>\n      <td>1.000000e+03</td>\n      <td>1000.0</td>\n    </tr>\n    <tr>\n      <th>mean</th>\n      <td>39.995994</td>\n      <td>116.336236</td>\n      <td>1.232342e+09</td>\n      <td>0.0</td>\n    </tr>\n    <tr>\n      <th>std</th>\n      <td>0.028002</td>\n      <td>0.059470</td>\n      <td>6.066012e+06</td>\n      <td>0.0</td>\n    </tr>\n    <tr>\n      <th>min</th>\n      <td>39.887335</td>\n      <td>116.262689</td>\n      <td>1.224730e+09</td>\n      <td>0.0</td>\n    </tr>\n    <tr>\n      <th>25%</th>\n      <td>39.994537</td>\n      <td>116.317275</td>\n      <td>1.226559e+09</td>\n      <td>0.0</td>\n    </tr>\n    <tr>\n      <th>50%</th>\n      <td>40.003726</td>\n      <td>116.321750</td>\n      <td>1.229060e+09</td>\n      <td>0.0</td>\n    </tr>\n    <tr>\n      <th>75%</th>\n      <td>40.008892</td>\n      <td>116.326119</td>\n      <td>1.238747e+09</td>\n      <td>0.0</td>\n    </tr>\n    <tr>\n      <th>max</th>\n      <td>40.079504</td>\n      <td>116.613898</td>\n      <td>1.238853e+09</td>\n      <td>0.0</td>\n    </tr>\n  </tbody>\n</table>\n</div>"
     },
     "execution_count": 90,
     "metadata": {},
     "output_type": "execute_result"
    }
   ],
   "source": [
    "limitedDataset.describe()"
   ],
   "metadata": {
    "collapsed": false
   }
  },
  {
   "cell_type": "code",
   "execution_count": 91,
   "outputs": [
    {
     "data": {
      "text/plain": "<seaborn.axisgrid.JointGrid at 0x7f71bb5e3490>"
     },
     "execution_count": 91,
     "metadata": {},
     "output_type": "execute_result"
    },
    {
     "data": {
      "text/plain": "<Figure size 600x600 with 3 Axes>",
      "image/png": "[encoded data removed]"
     },
     "metadata": {},
     "output_type": "display_data"
    }
   ],
   "source": [
    "seaborn.jointplot(x='lat',y='long',data=limitedDataset, s=1)"
   ],
   "metadata": {
    "collapsed": false
   }
  },
  {
   "cell_type": "code",
   "execution_count": 92,
   "outputs": [],
   "source": [
    "limitedDataset.to_csv(\"./data/onlyB_40_116.csv\")"
   ],
   "metadata": {
    "collapsed": false
   }
  },
  {
   "cell_type": "code",
   "execution_count": null,
   "outputs": [],
   "source": [
    "joint_axes = seaborn.jointplot(x='lat',y='long', data=limitedDataset, s = 0.5)"
   ],
   "metadata": {
    "collapsed": false
   }
  },
  {
   "cell_type": "markdown",
   "source": [
    "Codes comes form https://geoffboeing.com/2014/08/clustering-to-reduce-spatial-data-set-size/\n"
   ],
   "metadata": {
    "collapsed": false
   }
  },
  {
   "cell_type": "code",
   "execution_count": 21,
   "outputs": [],
   "source": [
    "limitedDataset = limitedDataset[['lat','long']].values"
   ],
   "metadata": {
    "collapsed": false
   }
  },
  {
   "cell_type": "code",
   "execution_count": 23,
   "outputs": [
    {
     "data": {
      "text/plain": "array([[ 39.984702, 116.318417],\n       [ 39.984288, 116.299943],\n       [ 39.983557, 116.299235],\n       ...,\n       [ 39.981875, 116.30975 ],\n       [ 39.983984, 116.308085],\n       [ 39.987166, 116.309207]])"
     },
     "execution_count": 23,
     "metadata": {},
     "output_type": "execute_result"
    }
   ],
   "source": [
    "limitedDataset"
   ],
   "metadata": {
    "collapsed": false
   }
  },
  {
   "cell_type": "code",
   "execution_count": 24,
   "outputs": [
    {
     "name": "stdout",
     "output_type": "stream",
     "text": [
      "[array([[ 39.984702, 116.318417],\n",
      "        [ 39.984288, 116.299943],\n",
      "        [ 39.983557, 116.299235],\n",
      "        ...,\n",
      "        [ 39.981875, 116.30975 ],\n",
      "        [ 39.983984, 116.308085],\n",
      "        [ 39.987166, 116.309207]]) array([[ 39.895524, 116.315621]])\n",
      " array([[ 39.986519, 116.384982],\n",
      "        [ 39.987017, 116.403146],\n",
      "        [ 39.987165, 116.410129],\n",
      "        [ 39.986357, 116.410684],\n",
      "        [ 39.983063, 116.411093],\n",
      "        [ 39.981853, 116.411476],\n",
      "        [ 39.982109, 116.41757 ],\n",
      "        [ 39.984218, 116.417706],\n",
      "        [ 39.987247, 116.417992],\n",
      "        [ 39.987637, 116.431542],\n",
      "        [ 39.984583, 116.440284],\n",
      "        [ 39.979835, 116.448024],\n",
      "        [ 39.976074, 116.453839],\n",
      "        [ 39.974076, 116.45701 ],\n",
      "        [ 39.970875, 116.461673],\n",
      "        [ 39.968962, 116.464223],\n",
      "        [ 39.969314, 116.462838],\n",
      "        [ 39.973567, 116.467418],\n",
      "        [ 39.975141, 116.468803],\n",
      "        [ 39.972315, 116.465224],\n",
      "        [ 39.971779, 116.46193 ],\n",
      "        [ 39.973384, 116.458405],\n",
      "        [ 39.975565, 116.454878],\n",
      "        [ 39.984637, 116.440861],\n",
      "        [ 39.988008, 116.43039 ],\n",
      "        [ 39.987553, 116.413192],\n",
      "        [ 39.987492, 116.411511],\n",
      "        [ 39.987641, 116.411217],\n",
      "        [ 39.987456, 116.409475],\n",
      "        [ 39.987426, 116.404291],\n",
      "        [ 39.987334, 116.401355],\n",
      "        [ 39.987353, 116.401564],\n",
      "        [ 39.986913, 116.391285],\n",
      "        [ 39.986574, 116.380434],\n",
      "        [ 39.986382, 116.37587 ]]) array([[ 40.000979, 116.497657],\n",
      "                                          [ 40.012733, 116.510759],\n",
      "                                          [ 40.016449, 116.517132],\n",
      "                                          [ 40.016728, 116.51729 ],\n",
      "                                          [ 40.013258, 116.511048],\n",
      "                                          [ 40.002936, 116.499541],\n",
      "                                          [ 39.998808, 116.495076]])\n",
      " array([[ 40.027311, 116.548306],\n",
      "        [ 40.032994, 116.563452],\n",
      "        [ 40.034641, 116.585908],\n",
      "        [ 40.032673, 116.59383 ],\n",
      "        [ 40.02903 , 116.599977],\n",
      "        [ 40.025586, 116.602305],\n",
      "        [ 40.025691, 116.604172],\n",
      "        [ 40.030436, 116.604747],\n",
      "        [ 40.036343, 116.608193],\n",
      "        [ 40.041151, 116.611041],\n",
      "        [ 40.0469  , 116.611178],\n",
      "        [ 40.051953, 116.613898],\n",
      "        [ 40.05378 , 116.609633],\n",
      "        [ 40.0532  , 116.608855],\n",
      "        [ 40.052124, 116.605858],\n",
      "        [ 40.05024 , 116.605838],\n",
      "        [ 40.047058, 116.609374],\n",
      "        [ 40.045698, 116.609458],\n",
      "        [ 40.045508, 116.607285],\n",
      "        [ 40.045242, 116.600725],\n",
      "        [ 40.045578, 116.599043],\n",
      "        [ 40.047447, 116.595795],\n",
      "        [ 40.051645, 116.59274 ],\n",
      "        [ 40.055973, 116.584545],\n",
      "        [ 40.055539, 116.583919],\n",
      "        [ 40.051008, 116.582981],\n",
      "        [ 40.047138, 116.578699],\n",
      "        [ 40.043908, 116.57545 ],\n",
      "        [ 40.035495, 116.566945],\n",
      "        [ 40.028829, 116.552327]]) array([[ 40.0711  , 116.581839],\n",
      "                                          [ 40.076019, 116.582678],\n",
      "                                          [ 40.077072, 116.587491],\n",
      "                                          [ 40.079401, 116.587537],\n",
      "                                          [ 40.07933 , 116.587362],\n",
      "                                          [ 40.079504, 116.583132],\n",
      "                                          [ 40.079275, 116.581217],\n",
      "                                          [ 40.073596, 116.581911]])]\n",
      "Number of clusters: 6\n"
     ]
    }
   ],
   "source": [
    "kms_per_radian = 6371.0088\n",
    "epsilon = 1.5 / kms_per_radian\n",
    "db = DBSCAN(eps=epsilon, min_samples=1, algorithm='ball_tree', metric='haversine').fit(np.radians(limitedDataset))\n",
    "cluster_labels = db.labels_\n",
    "num_clusters = len(set(cluster_labels))\n",
    "clusters = pd.Series([limitedDataset[cluster_labels == n] for n in range(num_clusters)])\n",
    "print(clusters.values)\n",
    "print('Number of clusters: {}'.format(num_clusters))"
   ],
   "metadata": {
    "collapsed": false
   }
  },
  {
   "cell_type": "code",
   "execution_count": 25,
   "outputs": [],
   "source": [
    "def get_centermost_point(cluster):\n",
    "    centroid = (MultiPoint(cluster).centroid.x, MultiPoint(cluster).centroid.y)\n",
    "    centermost_point = min(cluster, key=lambda point: great_circle(point, centroid).m)\n",
    "    return tuple(centermost_point)\n",
    "centermost_points = clusters.map(get_centermost_point)"
   ],
   "metadata": {
    "collapsed": false
   }
  },
  {
   "cell_type": "code",
   "execution_count": 28,
   "outputs": [],
   "source": [
    "lats, lons = zip(*centermost_points)\n",
    "rep_points = pd.DataFrame({'lat':lats, 'long':lons})"
   ],
   "metadata": {
    "collapsed": false
   }
  },
  {
   "cell_type": "code",
   "execution_count": 123,
   "outputs": [
    {
     "data": {
      "text/plain": "         lat        long\n0  39.996561  116.321043\n1  39.895524  116.315621\n2  39.988008  116.430390\n3  40.012733  116.510759\n4  40.045578  116.599043\n5  40.076019  116.582678",
      "text/html": "<div>\n<style scoped>\n    .dataframe tbody tr th:only-of-type {\n        vertical-align: middle;\n    }\n\n    .dataframe tbody tr th {\n        vertical-align: top;\n    }\n\n    .dataframe thead th {\n        text-align: right;\n    }\n</style>\n<table border=\"1\" class=\"dataframe\">\n  <thead>\n    <tr style=\"text-align: right;\">\n      <th></th>\n      <th>lat</th>\n      <th>long</th>\n    </tr>\n  </thead>\n  <tbody>\n    <tr>\n      <th>0</th>\n      <td>39.996561</td>\n      <td>116.321043</td>\n    </tr>\n    <tr>\n      <th>1</th>\n      <td>39.895524</td>\n      <td>116.315621</td>\n    </tr>\n    <tr>\n      <th>2</th>\n      <td>39.988008</td>\n      <td>116.430390</td>\n    </tr>\n    <tr>\n      <th>3</th>\n      <td>40.012733</td>\n      <td>116.510759</td>\n    </tr>\n    <tr>\n      <th>4</th>\n      <td>40.045578</td>\n      <td>116.599043</td>\n    </tr>\n    <tr>\n      <th>5</th>\n      <td>40.076019</td>\n      <td>116.582678</td>\n    </tr>\n  </tbody>\n</table>\n</div>"
     },
     "execution_count": 123,
     "metadata": {},
     "output_type": "execute_result"
    }
   ],
   "source": [
    "rep_points"
   ],
   "metadata": {
    "collapsed": false
   }
  },
  {
   "cell_type": "code",
   "execution_count": 29,
   "outputs": [],
   "source": [
    "numberoftrjacectectories = 10\n",
    "approxNumbStops = 3\n",
    "trjacetories = []\n",
    "h = None\n",
    "for x in range(0,10,1):\n",
    "    numberstops = random.randint(2,approxNumbStops)\n",
    "    listindex = random.sample(range(0, rep_points.shape[0]),numberstops)\n",
    "    locations = []\n",
    "    for x in listindex:\n",
    "        locations.append(rep_points.loc[x, ['lat','long']].to_list())\n",
    "    trjacetories.append(locations)\n",
    "\n"
   ],
   "metadata": {
    "collapsed": false
   }
  },
  {
   "cell_type": "code",
   "execution_count": 37,
   "outputs": [
    {
     "name": "stdout",
     "output_type": "stream",
     "text": [
      "0\n",
      "1\n"
     ]
    }
   ],
   "source": [
    "for i in range(0,2):\n",
    "    print(i)"
   ],
   "metadata": {
    "collapsed": false
   }
  },
  {
   "cell_type": "code",
   "execution_count": 42,
   "outputs": [
    {
     "ename": "ValueError",
     "evalue": "Sample larger than population or is negative",
     "output_type": "error",
     "traceback": [
      "\u001B[0;31m---------------------------------------------------------------------------\u001B[0m",
      "\u001B[0;31mValueError\u001B[0m                                Traceback (most recent call last)",
      "Cell \u001B[0;32mIn [42], line 1\u001B[0m\n\u001B[0;32m----> 1\u001B[0m \u001B[43mrandom\u001B[49m\u001B[38;5;241;43m.\u001B[39;49m\u001B[43msample\u001B[49m\u001B[43m(\u001B[49m\u001B[38;5;28;43mrange\u001B[39;49m\u001B[43m(\u001B[49m\u001B[38;5;241;43m0\u001B[39;49m\u001B[43m,\u001B[49m\u001B[38;5;241;43m2\u001B[39;49m\u001B[43m)\u001B[49m\u001B[43m,\u001B[49m\u001B[43m \u001B[49m\u001B[38;5;241;43m3\u001B[39;49m\u001B[43m)\u001B[49m\n",
      "File \u001B[0;32m/usr/lib/python3.10/random.py:482\u001B[0m, in \u001B[0;36mRandom.sample\u001B[0;34m(self, population, k, counts)\u001B[0m\n\u001B[1;32m    480\u001B[0m randbelow \u001B[38;5;241m=\u001B[39m \u001B[38;5;28mself\u001B[39m\u001B[38;5;241m.\u001B[39m_randbelow\n\u001B[1;32m    481\u001B[0m \u001B[38;5;28;01mif\u001B[39;00m \u001B[38;5;129;01mnot\u001B[39;00m \u001B[38;5;241m0\u001B[39m \u001B[38;5;241m<\u001B[39m\u001B[38;5;241m=\u001B[39m k \u001B[38;5;241m<\u001B[39m\u001B[38;5;241m=\u001B[39m n:\n\u001B[0;32m--> 482\u001B[0m     \u001B[38;5;28;01mraise\u001B[39;00m \u001B[38;5;167;01mValueError\u001B[39;00m(\u001B[38;5;124m\"\u001B[39m\u001B[38;5;124mSample larger than population or is negative\u001B[39m\u001B[38;5;124m\"\u001B[39m)\n\u001B[1;32m    483\u001B[0m result \u001B[38;5;241m=\u001B[39m [\u001B[38;5;28;01mNone\u001B[39;00m] \u001B[38;5;241m*\u001B[39m k\n\u001B[1;32m    484\u001B[0m setsize \u001B[38;5;241m=\u001B[39m \u001B[38;5;241m21\u001B[39m        \u001B[38;5;66;03m# size of a small set minus size of an empty list\u001B[39;00m\n",
      "\u001B[0;31mValueError\u001B[0m: Sample larger than population or is negative"
     ]
    }
   ],
   "source": [
    "random.sample(range(0,2), 3)"
   ],
   "metadata": {
    "collapsed": false
   }
  }
 ],
 "metadata": {
  "kernelspec": {
   "display_name": "Python 3",
   "language": "python",
   "name": "python3"
  },
  "language_info": {
   "codemirror_mode": {
    "name": "ipython",
    "version": 2
   },
   "file_extension": ".py",
   "mimetype": "text/x-python",
   "name": "python",
   "nbconvert_exporter": "python",
   "pygments_lexer": "ipython2",
   "version": "2.7.6"
  }
 },
 "nbformat": 4,
 "nbformat_minor": 0
}
